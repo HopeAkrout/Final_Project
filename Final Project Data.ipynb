{
 "cells": [
  {
   "cell_type": "code",
   "execution_count": 1,
   "id": "5fe1156f",
   "metadata": {},
   "outputs": [],
   "source": [
    "# Import Dependencies\n",
    "import pandas as pd\n",
    "import numpy as np"
   ]
  },
  {
   "cell_type": "code",
   "execution_count": 2,
   "id": "6fd2e150",
   "metadata": {},
   "outputs": [],
   "source": [
    "# Import the data for inpection\n",
    "accidental_deaths = pd.read_csv('accidental deaths 2018-2022.csv')\n",
    "gun_data = pd.read_csv('Gun Data, Codebook, and OLS Regression Outputs - Gun Data.csv')\n",
    "gun_law_2020 = pd.read_csv('gun law provisions by year (through 2020) and state.csv')\n",
    "gun_violence_2013_2018 = pd.read_csv('gun-violence-data_01-2013_03-2018 (1).csv')"
   ]
  },
  {
   "cell_type": "markdown",
   "id": "0ab54c74",
   "metadata": {},
   "source": [
    "## Clean the Accidental Deaths 2018 - 2022 CSV file"
   ]
  },
  {
   "cell_type": "code",
   "execution_count": 3,
   "id": "7bde3d02",
   "metadata": {},
   "outputs": [
    {
     "data": {
      "text/plain": [
       "Incident ID       2000\n",
       "Incident Date     2000\n",
       "State             2000\n",
       "City Or County    2000\n",
       "Address           1898\n",
       "# Killed          2000\n",
       "# Injured         2000\n",
       "Operations           0\n",
       "dtype: int64"
      ]
     },
     "execution_count": 3,
     "metadata": {},
     "output_type": "execute_result"
    }
   ],
   "source": [
    "# Look at the columns of accidental_deaths\n",
    "accidental_deaths.count()"
   ]
  },
  {
   "cell_type": "code",
   "execution_count": 4,
   "id": "ea40e19d",
   "metadata": {},
   "outputs": [
    {
     "data": {
      "text/plain": [
       "0       October 21, 2022\n",
       "1       October 19, 2022\n",
       "2       October 19, 2022\n",
       "3       October 19, 2022\n",
       "4       October 18, 2022\n",
       "              ...       \n",
       "1995     October 8, 2018\n",
       "1996     October 8, 2018\n",
       "1997     October 7, 2018\n",
       "1998     October 7, 2018\n",
       "1999     October 7, 2018\n",
       "Name: Incident Date, Length: 2000, dtype: object"
      ]
     },
     "execution_count": 4,
     "metadata": {},
     "output_type": "execute_result"
    }
   ],
   "source": [
    "# Inspect the data in the Incident Date column\n",
    "accidental_deaths['Incident Date']"
   ]
  },
  {
   "cell_type": "code",
   "execution_count": 5,
   "id": "3ccd4c71",
   "metadata": {},
   "outputs": [],
   "source": [
    "# Splitting the Incident Date column into three separate columns\n",
    "accidental_deaths[['month', 'day', 'date']] = accidental_deaths['Incident Date'].str.split(\" \", expand=True)"
   ]
  },
  {
   "cell_type": "code",
   "execution_count": 6,
   "id": "73390ee9",
   "metadata": {},
   "outputs": [
    {
     "data": {
      "text/plain": [
       "0       2022\n",
       "1       2022\n",
       "2       2022\n",
       "3       2022\n",
       "4       2022\n",
       "        ... \n",
       "1995    2018\n",
       "1996    2018\n",
       "1997    2018\n",
       "1998    2018\n",
       "1999    2018\n",
       "Name: date, Length: 2000, dtype: object"
      ]
     },
     "execution_count": 6,
     "metadata": {},
     "output_type": "execute_result"
    }
   ],
   "source": [
    "# Confirm the values of the date columns\n",
    "accidental_deaths['date']"
   ]
  },
  {
   "cell_type": "code",
   "execution_count": 7,
   "id": "84328f60",
   "metadata": {},
   "outputs": [],
   "source": [
    "# Rename the date column to year\n",
    "accidental_deaths.rename(columns={'Incident ID':'incident_id', \"State\":'state', '# Killed':'n_killed', '# Injured':'n_injured', 'date':'year'}, inplace=True)"
   ]
  },
  {
   "cell_type": "code",
   "execution_count": 8,
   "id": "1acf30a4",
   "metadata": {},
   "outputs": [],
   "source": [
    "accidental_deaths = accidental_deaths.drop(['Operations', 'Address', 'Incident Date', 'month', 'day', 'City Or County'], axis=1)"
   ]
  },
  {
   "cell_type": "code",
   "execution_count": 9,
   "id": "5555affc",
   "metadata": {},
   "outputs": [
    {
     "data": {
      "text/html": [
       "<div>\n",
       "<style scoped>\n",
       "    .dataframe tbody tr th:only-of-type {\n",
       "        vertical-align: middle;\n",
       "    }\n",
       "\n",
       "    .dataframe tbody tr th {\n",
       "        vertical-align: top;\n",
       "    }\n",
       "\n",
       "    .dataframe thead th {\n",
       "        text-align: right;\n",
       "    }\n",
       "</style>\n",
       "<table border=\"1\" class=\"dataframe\">\n",
       "  <thead>\n",
       "    <tr style=\"text-align: right;\">\n",
       "      <th></th>\n",
       "      <th>incident_id</th>\n",
       "      <th>state</th>\n",
       "      <th>n_killed</th>\n",
       "      <th>n_injured</th>\n",
       "      <th>year</th>\n",
       "    </tr>\n",
       "  </thead>\n",
       "  <tbody>\n",
       "    <tr>\n",
       "      <th>0</th>\n",
       "      <td>2442581</td>\n",
       "      <td>Texas</td>\n",
       "      <td>1</td>\n",
       "      <td>0</td>\n",
       "      <td>2022</td>\n",
       "    </tr>\n",
       "    <tr>\n",
       "      <th>1</th>\n",
       "      <td>2440896</td>\n",
       "      <td>Tennessee</td>\n",
       "      <td>1</td>\n",
       "      <td>0</td>\n",
       "      <td>2022</td>\n",
       "    </tr>\n",
       "    <tr>\n",
       "      <th>2</th>\n",
       "      <td>2440710</td>\n",
       "      <td>Florida</td>\n",
       "      <td>1</td>\n",
       "      <td>0</td>\n",
       "      <td>2022</td>\n",
       "    </tr>\n",
       "    <tr>\n",
       "      <th>3</th>\n",
       "      <td>2441176</td>\n",
       "      <td>North Carolina</td>\n",
       "      <td>1</td>\n",
       "      <td>0</td>\n",
       "      <td>2022</td>\n",
       "    </tr>\n",
       "    <tr>\n",
       "      <th>4</th>\n",
       "      <td>2441982</td>\n",
       "      <td>North Carolina</td>\n",
       "      <td>1</td>\n",
       "      <td>0</td>\n",
       "      <td>2022</td>\n",
       "    </tr>\n",
       "    <tr>\n",
       "      <th>...</th>\n",
       "      <td>...</td>\n",
       "      <td>...</td>\n",
       "      <td>...</td>\n",
       "      <td>...</td>\n",
       "      <td>...</td>\n",
       "    </tr>\n",
       "    <tr>\n",
       "      <th>1995</th>\n",
       "      <td>1228092</td>\n",
       "      <td>Virginia</td>\n",
       "      <td>1</td>\n",
       "      <td>0</td>\n",
       "      <td>2018</td>\n",
       "    </tr>\n",
       "    <tr>\n",
       "      <th>1996</th>\n",
       "      <td>1228741</td>\n",
       "      <td>Ohio</td>\n",
       "      <td>1</td>\n",
       "      <td>0</td>\n",
       "      <td>2018</td>\n",
       "    </tr>\n",
       "    <tr>\n",
       "      <th>1997</th>\n",
       "      <td>1227604</td>\n",
       "      <td>Texas</td>\n",
       "      <td>1</td>\n",
       "      <td>0</td>\n",
       "      <td>2018</td>\n",
       "    </tr>\n",
       "    <tr>\n",
       "      <th>1998</th>\n",
       "      <td>1236855</td>\n",
       "      <td>New York</td>\n",
       "      <td>1</td>\n",
       "      <td>0</td>\n",
       "      <td>2018</td>\n",
       "    </tr>\n",
       "    <tr>\n",
       "      <th>1999</th>\n",
       "      <td>1227183</td>\n",
       "      <td>Texas</td>\n",
       "      <td>1</td>\n",
       "      <td>0</td>\n",
       "      <td>2018</td>\n",
       "    </tr>\n",
       "  </tbody>\n",
       "</table>\n",
       "<p>2000 rows × 5 columns</p>\n",
       "</div>"
      ],
      "text/plain": [
       "      incident_id           state  n_killed  n_injured  year\n",
       "0         2442581           Texas         1          0  2022\n",
       "1         2440896       Tennessee         1          0  2022\n",
       "2         2440710         Florida         1          0  2022\n",
       "3         2441176  North Carolina         1          0  2022\n",
       "4         2441982  North Carolina         1          0  2022\n",
       "...           ...             ...       ...        ...   ...\n",
       "1995      1228092        Virginia         1          0  2018\n",
       "1996      1228741            Ohio         1          0  2018\n",
       "1997      1227604           Texas         1          0  2018\n",
       "1998      1236855        New York         1          0  2018\n",
       "1999      1227183           Texas         1          0  2018\n",
       "\n",
       "[2000 rows x 5 columns]"
      ]
     },
     "execution_count": 9,
     "metadata": {},
     "output_type": "execute_result"
    }
   ],
   "source": [
    "accidental_deaths"
   ]
  },
  {
   "cell_type": "markdown",
   "id": "7f1f556a",
   "metadata": {},
   "source": [
    "## Clean the Gun Data CSV"
   ]
  },
  {
   "cell_type": "code",
   "execution_count": null,
   "id": "553713bc",
   "metadata": {},
   "outputs": [],
   "source": [
    "# Convert the columns to a list\n",
    "gun_data.columns.tolist()"
   ]
  },
  {
   "cell_type": "code",
   "execution_count": null,
   "id": "e7470891",
   "metadata": {},
   "outputs": [],
   "source": [
    "# Deleting Unneeded columns\n",
    "gun_data = gun_data.drop(['Gini-Indx','Pov.%','PrcntBlck','PrcntHispORLat','PrtyRepub.','PrtyDemoc.','AlchlPerCap','StateSqMi','B5E','B5A',\n",
    "                'B5C','B5N','B5O','IATScore','HnrCultr','UnHyphAm.','PrcntUnHyphAm.','PrcntPopVet','PrcntPopUrbn','PrcntEvang.','CntryV.Rck',\n",
    "                'AllMrdr','PrcntHSchl','PrcntBchlr','PrcntConsrv','AggvtdAsslt','AllSuic','AllVlntCrm','CensMW','CensNE','CensS','CensW',\n",
    "                'MnMrdrWmn','RapeRvsd','Robbery', 'FxNwsCnsmp.','MntlHlthRnk','NumOfPoliceOfficers','PolicKilledGun','PoliceKilledGun100k',\n",
    "                'PoliceOfficers100k','RapeLgcy'\n",
    "              ], axis=1)"
   ]
  },
  {
   "cell_type": "code",
   "execution_count": null,
   "id": "b037b8c5",
   "metadata": {},
   "outputs": [],
   "source": [
    "sorted(gun_data.columns.tolist())"
   ]
  },
  {
   "cell_type": "markdown",
   "id": "afcdafcb",
   "metadata": {},
   "source": [
    "## Inspect gun law provisions by year (through 2020) and state.csv"
   ]
  },
  {
   "cell_type": "code",
   "execution_count": 10,
   "id": "8d1bf354",
   "metadata": {},
   "outputs": [
    {
     "data": {
      "text/plain": [
       "state                           1500\n",
       "year                            1500\n",
       "felony                          1500\n",
       "invcommitment                   1500\n",
       "invoutpatient                   1500\n",
       "                                ... \n",
       "expartesurrendernoconditions    1500\n",
       "expartesurrenderdating          1500\n",
       "dvroremoval                     1500\n",
       "stalking                        1500\n",
       "lawtotal                        1500\n",
       "Length: 137, dtype: int64"
      ]
     },
     "execution_count": 10,
     "metadata": {},
     "output_type": "execute_result"
    }
   ],
   "source": [
    "#Count the non-null values\n",
    "gun_law_2020.count()"
   ]
  },
  {
   "cell_type": "code",
   "execution_count": 11,
   "id": "9a68dbc2",
   "metadata": {},
   "outputs": [
    {
     "data": {
      "text/plain": [
       "['state',\n",
       " 'year',\n",
       " 'felony',\n",
       " 'invcommitment',\n",
       " 'invoutpatient',\n",
       " 'danger',\n",
       " 'drugmisdemeanor',\n",
       " 'alctreatment',\n",
       " 'alcoholism',\n",
       " 'relinquishment',\n",
       " 'violent',\n",
       " 'violenth',\n",
       " 'violentpartial',\n",
       " 'dealer',\n",
       " 'dealerh',\n",
       " 'recordsall',\n",
       " 'recordsallh',\n",
       " 'recordsdealer',\n",
       " 'recordsdealerh',\n",
       " 'reportall',\n",
       " 'reportallh',\n",
       " 'reportdealer',\n",
       " 'reportdealerh',\n",
       " 'purge',\n",
       " 'residential',\n",
       " 'theft',\n",
       " 'security',\n",
       " 'inspection',\n",
       " 'ammlicense',\n",
       " 'ammrecords',\n",
       " 'permit',\n",
       " 'permith',\n",
       " 'fingerprint',\n",
       " 'training',\n",
       " 'permitlaw',\n",
       " 'registration',\n",
       " 'registrationh',\n",
       " 'defactoreg',\n",
       " 'defactoregh',\n",
       " 'ammpermit',\n",
       " 'ammrestrict',\n",
       " 'age21handgunsale',\n",
       " 'age18longgunsale',\n",
       " 'age21longgunsaled',\n",
       " 'age21longgunsale',\n",
       " 'age21handgunpossess',\n",
       " 'age18longgunpossess',\n",
       " 'age21longgunpossess',\n",
       " 'loststolen',\n",
       " 'amm18',\n",
       " 'amm21h',\n",
       " 'universal',\n",
       " 'universalh',\n",
       " 'gunshow',\n",
       " 'gunshowh',\n",
       " 'universalpermit',\n",
       " 'universalpermith',\n",
       " 'backgroundpurge',\n",
       " 'ammbackground',\n",
       " 'threedaylimit',\n",
       " 'mentalhealth',\n",
       " 'statechecks',\n",
       " 'statechecksh',\n",
       " 'waiting',\n",
       " 'waitingh',\n",
       " 'assault',\n",
       " 'onefeature',\n",
       " 'assaultlist',\n",
       " 'assaultregister',\n",
       " 'assaulttransfer',\n",
       " 'magazine',\n",
       " 'tenroundlimit',\n",
       " 'magazinepreowned',\n",
       " 'onepermonth',\n",
       " 'traffickingbackground',\n",
       " 'traffickingprohibited',\n",
       " 'traffickingprohibitedh',\n",
       " 'strawpurchase',\n",
       " 'strawpurchaseh',\n",
       " 'microstamp',\n",
       " 'gvro',\n",
       " 'gvrolawenforcement',\n",
       " 'college',\n",
       " 'collegeconcealed',\n",
       " 'elementary',\n",
       " 'opencarryh',\n",
       " 'opencarryl',\n",
       " 'opencarrypermith',\n",
       " 'opencarrypermitl',\n",
       " 'permitconcealed',\n",
       " 'mayissue',\n",
       " 'showing',\n",
       " 'ccbackground',\n",
       " 'ccbackgroundnics',\n",
       " 'ccrenewbackground',\n",
       " 'ccrevoke',\n",
       " 'nosyg',\n",
       " 'personalized',\n",
       " 'lockd',\n",
       " 'lockp',\n",
       " 'locked',\n",
       " 'lockstandards',\n",
       " 'capliability',\n",
       " 'capaccess',\n",
       " 'capuses',\n",
       " 'capunloaded',\n",
       " 'cap18',\n",
       " 'cap16',\n",
       " 'cap14',\n",
       " 'junkgun',\n",
       " 'liability',\n",
       " 'immunity',\n",
       " 'preemption',\n",
       " 'preemptionnarrow',\n",
       " 'preemptionbroad',\n",
       " 'mcdv',\n",
       " 'mcdvdating',\n",
       " 'mcdvsurrender',\n",
       " 'mcdvsurrendernoconditions',\n",
       " 'mcdvsurrenderdating',\n",
       " 'mcdvremovalallowed',\n",
       " 'mcdvremovalrequired',\n",
       " 'incidentremoval',\n",
       " 'incidentall',\n",
       " 'dvro',\n",
       " 'dvrodating',\n",
       " 'exparte',\n",
       " 'expartedating',\n",
       " 'dvrosurrender',\n",
       " 'dvrosurrendernoconditions',\n",
       " 'dvrosurrenderdating',\n",
       " 'expartesurrender',\n",
       " 'expartesurrendernoconditions',\n",
       " 'expartesurrenderdating',\n",
       " 'dvroremoval',\n",
       " 'stalking',\n",
       " 'lawtotal']"
      ]
     },
     "execution_count": 11,
     "metadata": {},
     "output_type": "execute_result"
    }
   ],
   "source": [
    "# Convert the columns into a list\n",
    "gun_law_2020.columns.tolist()"
   ]
  },
  {
   "cell_type": "code",
   "execution_count": 12,
   "id": "2fb737cc",
   "metadata": {},
   "outputs": [],
   "source": [
    "# Check the data type of the year \n",
    "gun_law_2020['year'].dtypes\n",
    "\n",
    "# Filter the dataset by years from 200-2020\n",
    "gun_law_2020 = gun_law_2020[gun_law_2020['year'] >= 2000]"
   ]
  },
  {
   "cell_type": "markdown",
   "id": "4798a1c9",
   "metadata": {},
   "source": [
    "## Gun Violence Data"
   ]
  },
  {
   "cell_type": "code",
   "execution_count": 13,
   "id": "9863650c",
   "metadata": {},
   "outputs": [
    {
     "data": {
      "text/plain": [
       "['incident_id',\n",
       " 'date',\n",
       " 'state',\n",
       " 'city_or_county',\n",
       " 'address',\n",
       " 'n_killed',\n",
       " 'n_injured',\n",
       " 'incident_url',\n",
       " 'source_url',\n",
       " 'incident_url_fields_missing',\n",
       " 'congressional_district',\n",
       " 'gun_stolen',\n",
       " 'gun_type',\n",
       " 'incident_characteristics',\n",
       " 'latitude',\n",
       " 'location_description',\n",
       " 'longitude',\n",
       " 'n_guns_involved',\n",
       " 'notes',\n",
       " 'participant_age',\n",
       " 'participant_age_group',\n",
       " 'participant_gender',\n",
       " 'participant_name',\n",
       " 'participant_relationship',\n",
       " 'participant_status',\n",
       " 'participant_type',\n",
       " 'sources',\n",
       " 'state_house_district',\n",
       " 'state_senate_district']"
      ]
     },
     "execution_count": 13,
     "metadata": {},
     "output_type": "execute_result"
    }
   ],
   "source": [
    "# Review all columns\n",
    "gun_violence_2013_2018.columns.tolist()"
   ]
  },
  {
   "cell_type": "code",
   "execution_count": 14,
   "id": "67a59511",
   "metadata": {},
   "outputs": [],
   "source": [
    "# split the date column into separate columns for date, day, month\n",
    "# replace date with year\n",
    "gun_violence_2013_2018[['date', 'month', 'day']] = gun_violence_2013_2018.date.str.split(\"-\", expand=True)\n",
    "gun_violence_2013_2018.columns = gun_violence_2013_2018.columns.str.replace('date', 'year')"
   ]
  },
  {
   "cell_type": "code",
   "execution_count": 15,
   "id": "4a43d51d",
   "metadata": {},
   "outputs": [],
   "source": [
    "# Create a new dataframe for latitude and longitude\n",
    "location = gun_violence_2013_2018[['latitude','longitude']].copy()"
   ]
  },
  {
   "cell_type": "code",
   "execution_count": 16,
   "id": "17992c91",
   "metadata": {},
   "outputs": [],
   "source": [
    "# Drop unneeded columns\n",
    "gun_violence_cleaned = gun_violence_2013_2018.drop(['city_or_county','address','incident_url',\n",
    "                                                    'source_url','incident_url_fields_missing','congressional_district',\n",
    "                                                    'gun_stolen','gun_type','incident_characteristics',\n",
    "                                                    'location_description','n_guns_involved',\n",
    "                                                     'notes','participant_age','participant_age_group',\n",
    "                                                     'participant_gender','participant_name','participant_relationship',\n",
    "                                                     'participant_status','participant_type','sources',\n",
    "                                                     'state_house_district','state_senate_district','month','day','latitude','longitude'], axis=1)"
   ]
  },
  {
   "cell_type": "code",
   "execution_count": 17,
   "id": "eb7ed60d",
   "metadata": {},
   "outputs": [
    {
     "data": {
      "text/html": [
       "<div>\n",
       "<style scoped>\n",
       "    .dataframe tbody tr th:only-of-type {\n",
       "        vertical-align: middle;\n",
       "    }\n",
       "\n",
       "    .dataframe tbody tr th {\n",
       "        vertical-align: top;\n",
       "    }\n",
       "\n",
       "    .dataframe thead th {\n",
       "        text-align: right;\n",
       "    }\n",
       "</style>\n",
       "<table border=\"1\" class=\"dataframe\">\n",
       "  <thead>\n",
       "    <tr style=\"text-align: right;\">\n",
       "      <th></th>\n",
       "      <th>incident_id</th>\n",
       "      <th>year</th>\n",
       "      <th>state</th>\n",
       "      <th>n_killed</th>\n",
       "      <th>n_injured</th>\n",
       "    </tr>\n",
       "  </thead>\n",
       "  <tbody>\n",
       "    <tr>\n",
       "      <th>0</th>\n",
       "      <td>461105</td>\n",
       "      <td>2013</td>\n",
       "      <td>Pennsylvania</td>\n",
       "      <td>0</td>\n",
       "      <td>4</td>\n",
       "    </tr>\n",
       "    <tr>\n",
       "      <th>1</th>\n",
       "      <td>460726</td>\n",
       "      <td>2013</td>\n",
       "      <td>California</td>\n",
       "      <td>1</td>\n",
       "      <td>3</td>\n",
       "    </tr>\n",
       "    <tr>\n",
       "      <th>2</th>\n",
       "      <td>478855</td>\n",
       "      <td>2013</td>\n",
       "      <td>Ohio</td>\n",
       "      <td>1</td>\n",
       "      <td>3</td>\n",
       "    </tr>\n",
       "    <tr>\n",
       "      <th>3</th>\n",
       "      <td>478925</td>\n",
       "      <td>2013</td>\n",
       "      <td>Colorado</td>\n",
       "      <td>4</td>\n",
       "      <td>0</td>\n",
       "    </tr>\n",
       "    <tr>\n",
       "      <th>4</th>\n",
       "      <td>478959</td>\n",
       "      <td>2013</td>\n",
       "      <td>North Carolina</td>\n",
       "      <td>2</td>\n",
       "      <td>2</td>\n",
       "    </tr>\n",
       "    <tr>\n",
       "      <th>...</th>\n",
       "      <td>...</td>\n",
       "      <td>...</td>\n",
       "      <td>...</td>\n",
       "      <td>...</td>\n",
       "      <td>...</td>\n",
       "    </tr>\n",
       "    <tr>\n",
       "      <th>239672</th>\n",
       "      <td>1083142</td>\n",
       "      <td>2018</td>\n",
       "      <td>Louisiana</td>\n",
       "      <td>0</td>\n",
       "      <td>0</td>\n",
       "    </tr>\n",
       "    <tr>\n",
       "      <th>239673</th>\n",
       "      <td>1083139</td>\n",
       "      <td>2018</td>\n",
       "      <td>Louisiana</td>\n",
       "      <td>1</td>\n",
       "      <td>0</td>\n",
       "    </tr>\n",
       "    <tr>\n",
       "      <th>239674</th>\n",
       "      <td>1083151</td>\n",
       "      <td>2018</td>\n",
       "      <td>Louisiana</td>\n",
       "      <td>0</td>\n",
       "      <td>1</td>\n",
       "    </tr>\n",
       "    <tr>\n",
       "      <th>239675</th>\n",
       "      <td>1082514</td>\n",
       "      <td>2018</td>\n",
       "      <td>Texas</td>\n",
       "      <td>1</td>\n",
       "      <td>0</td>\n",
       "    </tr>\n",
       "    <tr>\n",
       "      <th>239676</th>\n",
       "      <td>1081940</td>\n",
       "      <td>2018</td>\n",
       "      <td>Maine</td>\n",
       "      <td>2</td>\n",
       "      <td>0</td>\n",
       "    </tr>\n",
       "  </tbody>\n",
       "</table>\n",
       "<p>239677 rows × 5 columns</p>\n",
       "</div>"
      ],
      "text/plain": [
       "        incident_id  year           state  n_killed  n_injured\n",
       "0            461105  2013    Pennsylvania         0          4\n",
       "1            460726  2013      California         1          3\n",
       "2            478855  2013            Ohio         1          3\n",
       "3            478925  2013        Colorado         4          0\n",
       "4            478959  2013  North Carolina         2          2\n",
       "...             ...   ...             ...       ...        ...\n",
       "239672      1083142  2018       Louisiana         0          0\n",
       "239673      1083139  2018       Louisiana         1          0\n",
       "239674      1083151  2018       Louisiana         0          1\n",
       "239675      1082514  2018           Texas         1          0\n",
       "239676      1081940  2018           Maine         2          0\n",
       "\n",
       "[239677 rows x 5 columns]"
      ]
     },
     "execution_count": 17,
     "metadata": {},
     "output_type": "execute_result"
    }
   ],
   "source": [
    "gun_violence_cleaned"
   ]
  },
  {
   "cell_type": "code",
   "execution_count": 18,
   "id": "dfb8f68a",
   "metadata": {},
   "outputs": [
    {
     "data": {
      "text/plain": [
       "year  state        \n",
       "2013  Alabama            2\n",
       "      Arizona            5\n",
       "      California        39\n",
       "      Colorado           3\n",
       "      Connecticut        3\n",
       "                      ... \n",
       "2018  Virginia         293\n",
       "      Washington       200\n",
       "      West Virginia     80\n",
       "      Wisconsin        376\n",
       "      Wyoming           14\n",
       "Length: 292, dtype: int64"
      ]
     },
     "execution_count": 18,
     "metadata": {},
     "output_type": "execute_result"
    }
   ],
   "source": [
    "yearly_incidents = gun_violence_cleaned.groupby(['year', 'state']).size()\n",
    "yearly_incidents"
   ]
  },
  {
   "cell_type": "markdown",
   "id": "d2b84823",
   "metadata": {},
   "source": [
    "## Merging and Exporting the Cleaned Data"
   ]
  },
  {
   "cell_type": "code",
   "execution_count": 20,
   "id": "f40cb02c",
   "metadata": {},
   "outputs": [
    {
     "ename": "ValueError",
     "evalue": "Cannot merge a Series without a name",
     "output_type": "error",
     "traceback": [
      "\u001b[1;31m---------------------------------------------------------------------------\u001b[0m",
      "\u001b[1;31mValueError\u001b[0m                                Traceback (most recent call last)",
      "Input \u001b[1;32mIn [20]\u001b[0m, in \u001b[0;36m<cell line: 2>\u001b[1;34m()\u001b[0m\n\u001b[0;32m      1\u001b[0m \u001b[38;5;66;03m# merge gun_law_2020 and yearly_incidents \u001b[39;00m\n\u001b[1;32m----> 2\u001b[0m gun_law_yearly_merged \u001b[38;5;241m=\u001b[39m \u001b[43mpd\u001b[49m\u001b[38;5;241;43m.\u001b[39;49m\u001b[43mmerge\u001b[49m\u001b[43m(\u001b[49m\u001b[43mgun_law_2020\u001b[49m\u001b[43m,\u001b[49m\u001b[43m \u001b[49m\u001b[43myearly_incidents\u001b[49m\u001b[43m,\u001b[49m\u001b[43m \u001b[49m\u001b[43mhow\u001b[49m\u001b[38;5;241;43m=\u001b[39;49m\u001b[38;5;124;43m'\u001b[39;49m\u001b[38;5;124;43minner\u001b[39;49m\u001b[38;5;124;43m'\u001b[39;49m\u001b[43m,\u001b[49m\u001b[43m \u001b[49m\u001b[43mon\u001b[49m\u001b[38;5;241;43m=\u001b[39;49m\u001b[43m[\u001b[49m\u001b[38;5;124;43m'\u001b[39;49m\u001b[38;5;124;43myear\u001b[39;49m\u001b[38;5;124;43m'\u001b[39;49m\u001b[43m,\u001b[49m\u001b[38;5;124;43m'\u001b[39;49m\u001b[38;5;124;43mstate\u001b[39;49m\u001b[38;5;124;43m'\u001b[39;49m\u001b[43m]\u001b[49m\u001b[43m)\u001b[49m\n",
      "File \u001b[1;32m~\\anaconda3\\lib\\site-packages\\pandas\\core\\reshape\\merge.py:111\u001b[0m, in \u001b[0;36mmerge\u001b[1;34m(left, right, how, on, left_on, right_on, left_index, right_index, sort, suffixes, copy, indicator, validate)\u001b[0m\n\u001b[0;32m     94\u001b[0m \u001b[38;5;129m@Substitution\u001b[39m(\u001b[38;5;124m\"\u001b[39m\u001b[38;5;130;01m\\n\u001b[39;00m\u001b[38;5;124mleft : DataFrame or named Series\u001b[39m\u001b[38;5;124m\"\u001b[39m)\n\u001b[0;32m     95\u001b[0m \u001b[38;5;129m@Appender\u001b[39m(_merge_doc, indents\u001b[38;5;241m=\u001b[39m\u001b[38;5;241m0\u001b[39m)\n\u001b[0;32m     96\u001b[0m \u001b[38;5;28;01mdef\u001b[39;00m \u001b[38;5;21mmerge\u001b[39m(\n\u001b[1;32m   (...)\u001b[0m\n\u001b[0;32m    109\u001b[0m     validate: \u001b[38;5;28mstr\u001b[39m \u001b[38;5;241m|\u001b[39m \u001b[38;5;28;01mNone\u001b[39;00m \u001b[38;5;241m=\u001b[39m \u001b[38;5;28;01mNone\u001b[39;00m,\n\u001b[0;32m    110\u001b[0m ) \u001b[38;5;241m-\u001b[39m\u001b[38;5;241m>\u001b[39m DataFrame:\n\u001b[1;32m--> 111\u001b[0m     op \u001b[38;5;241m=\u001b[39m \u001b[43m_MergeOperation\u001b[49m\u001b[43m(\u001b[49m\n\u001b[0;32m    112\u001b[0m \u001b[43m        \u001b[49m\u001b[43mleft\u001b[49m\u001b[43m,\u001b[49m\n\u001b[0;32m    113\u001b[0m \u001b[43m        \u001b[49m\u001b[43mright\u001b[49m\u001b[43m,\u001b[49m\n\u001b[0;32m    114\u001b[0m \u001b[43m        \u001b[49m\u001b[43mhow\u001b[49m\u001b[38;5;241;43m=\u001b[39;49m\u001b[43mhow\u001b[49m\u001b[43m,\u001b[49m\n\u001b[0;32m    115\u001b[0m \u001b[43m        \u001b[49m\u001b[43mon\u001b[49m\u001b[38;5;241;43m=\u001b[39;49m\u001b[43mon\u001b[49m\u001b[43m,\u001b[49m\n\u001b[0;32m    116\u001b[0m \u001b[43m        \u001b[49m\u001b[43mleft_on\u001b[49m\u001b[38;5;241;43m=\u001b[39;49m\u001b[43mleft_on\u001b[49m\u001b[43m,\u001b[49m\n\u001b[0;32m    117\u001b[0m \u001b[43m        \u001b[49m\u001b[43mright_on\u001b[49m\u001b[38;5;241;43m=\u001b[39;49m\u001b[43mright_on\u001b[49m\u001b[43m,\u001b[49m\n\u001b[0;32m    118\u001b[0m \u001b[43m        \u001b[49m\u001b[43mleft_index\u001b[49m\u001b[38;5;241;43m=\u001b[39;49m\u001b[43mleft_index\u001b[49m\u001b[43m,\u001b[49m\n\u001b[0;32m    119\u001b[0m \u001b[43m        \u001b[49m\u001b[43mright_index\u001b[49m\u001b[38;5;241;43m=\u001b[39;49m\u001b[43mright_index\u001b[49m\u001b[43m,\u001b[49m\n\u001b[0;32m    120\u001b[0m \u001b[43m        \u001b[49m\u001b[43msort\u001b[49m\u001b[38;5;241;43m=\u001b[39;49m\u001b[43msort\u001b[49m\u001b[43m,\u001b[49m\n\u001b[0;32m    121\u001b[0m \u001b[43m        \u001b[49m\u001b[43msuffixes\u001b[49m\u001b[38;5;241;43m=\u001b[39;49m\u001b[43msuffixes\u001b[49m\u001b[43m,\u001b[49m\n\u001b[0;32m    122\u001b[0m \u001b[43m        \u001b[49m\u001b[43mindicator\u001b[49m\u001b[38;5;241;43m=\u001b[39;49m\u001b[43mindicator\u001b[49m\u001b[43m,\u001b[49m\n\u001b[0;32m    123\u001b[0m \u001b[43m        \u001b[49m\u001b[43mvalidate\u001b[49m\u001b[38;5;241;43m=\u001b[39;49m\u001b[43mvalidate\u001b[49m\u001b[43m,\u001b[49m\n\u001b[0;32m    124\u001b[0m \u001b[43m    \u001b[49m\u001b[43m)\u001b[49m\n\u001b[0;32m    125\u001b[0m     \u001b[38;5;28;01mreturn\u001b[39;00m op\u001b[38;5;241m.\u001b[39mget_result(copy\u001b[38;5;241m=\u001b[39mcopy)\n",
      "File \u001b[1;32m~\\anaconda3\\lib\\site-packages\\pandas\\core\\reshape\\merge.py:646\u001b[0m, in \u001b[0;36m_MergeOperation.__init__\u001b[1;34m(self, left, right, how, on, left_on, right_on, axis, left_index, right_index, sort, suffixes, indicator, validate)\u001b[0m\n\u001b[0;32m    629\u001b[0m \u001b[38;5;28;01mdef\u001b[39;00m \u001b[38;5;21m__init__\u001b[39m(\n\u001b[0;32m    630\u001b[0m     \u001b[38;5;28mself\u001b[39m,\n\u001b[0;32m    631\u001b[0m     left: DataFrame \u001b[38;5;241m|\u001b[39m Series,\n\u001b[1;32m   (...)\u001b[0m\n\u001b[0;32m    643\u001b[0m     validate: \u001b[38;5;28mstr\u001b[39m \u001b[38;5;241m|\u001b[39m \u001b[38;5;28;01mNone\u001b[39;00m \u001b[38;5;241m=\u001b[39m \u001b[38;5;28;01mNone\u001b[39;00m,\n\u001b[0;32m    644\u001b[0m ) \u001b[38;5;241m-\u001b[39m\u001b[38;5;241m>\u001b[39m \u001b[38;5;28;01mNone\u001b[39;00m:\n\u001b[0;32m    645\u001b[0m     _left \u001b[38;5;241m=\u001b[39m _validate_operand(left)\n\u001b[1;32m--> 646\u001b[0m     _right \u001b[38;5;241m=\u001b[39m \u001b[43m_validate_operand\u001b[49m\u001b[43m(\u001b[49m\u001b[43mright\u001b[49m\u001b[43m)\u001b[49m\n\u001b[0;32m    647\u001b[0m     \u001b[38;5;28mself\u001b[39m\u001b[38;5;241m.\u001b[39mleft \u001b[38;5;241m=\u001b[39m \u001b[38;5;28mself\u001b[39m\u001b[38;5;241m.\u001b[39morig_left \u001b[38;5;241m=\u001b[39m _left\n\u001b[0;32m    648\u001b[0m     \u001b[38;5;28mself\u001b[39m\u001b[38;5;241m.\u001b[39mright \u001b[38;5;241m=\u001b[39m \u001b[38;5;28mself\u001b[39m\u001b[38;5;241m.\u001b[39morig_right \u001b[38;5;241m=\u001b[39m _right\n",
      "File \u001b[1;32m~\\anaconda3\\lib\\site-packages\\pandas\\core\\reshape\\merge.py:2425\u001b[0m, in \u001b[0;36m_validate_operand\u001b[1;34m(obj)\u001b[0m\n\u001b[0;32m   2423\u001b[0m \u001b[38;5;28;01melif\u001b[39;00m \u001b[38;5;28misinstance\u001b[39m(obj, ABCSeries):\n\u001b[0;32m   2424\u001b[0m     \u001b[38;5;28;01mif\u001b[39;00m obj\u001b[38;5;241m.\u001b[39mname \u001b[38;5;129;01mis\u001b[39;00m \u001b[38;5;28;01mNone\u001b[39;00m:\n\u001b[1;32m-> 2425\u001b[0m         \u001b[38;5;28;01mraise\u001b[39;00m \u001b[38;5;167;01mValueError\u001b[39;00m(\u001b[38;5;124m\"\u001b[39m\u001b[38;5;124mCannot merge a Series without a name\u001b[39m\u001b[38;5;124m\"\u001b[39m)\n\u001b[0;32m   2426\u001b[0m     \u001b[38;5;28;01melse\u001b[39;00m:\n\u001b[0;32m   2427\u001b[0m         \u001b[38;5;28;01mreturn\u001b[39;00m obj\u001b[38;5;241m.\u001b[39mto_frame()\n",
      "\u001b[1;31mValueError\u001b[0m: Cannot merge a Series without a name"
     ]
    }
   ],
   "source": [
    "# merge gun_law_2020 and yearly_incidents \n",
    "gun_law_yearly_merged = pd.merge(gun_law_2020, yearly_incidents, how='inner', on=['year','state'])"
   ]
  },
  {
   "cell_type": "code",
   "execution_count": 21,
   "id": "1f626edd",
   "metadata": {},
   "outputs": [
    {
     "ename": "NameError",
     "evalue": "name 'gun_law_yearly_merged' is not defined",
     "output_type": "error",
     "traceback": [
      "\u001b[1;31m---------------------------------------------------------------------------\u001b[0m",
      "\u001b[1;31mNameError\u001b[0m                                 Traceback (most recent call last)",
      "Input \u001b[1;32mIn [21]\u001b[0m, in \u001b[0;36m<cell line: 1>\u001b[1;34m()\u001b[0m\n\u001b[1;32m----> 1\u001b[0m \u001b[43mgun_law_yearly_merged\u001b[49m\n",
      "\u001b[1;31mNameError\u001b[0m: name 'gun_law_yearly_merged' is not defined"
     ]
    }
   ],
   "source": [
    "gun_law_yearly_merged"
   ]
  },
  {
   "cell_type": "code",
   "execution_count": null,
   "id": "a3057812",
   "metadata": {},
   "outputs": [],
   "source": []
  }
 ],
 "metadata": {
  "kernelspec": {
   "display_name": "PythonData",
   "language": "python",
   "name": "pythondata"
  },
  "language_info": {
   "codemirror_mode": {
    "name": "ipython",
    "version": 3
   },
   "file_extension": ".py",
   "mimetype": "text/x-python",
   "name": "python",
   "nbconvert_exporter": "python",
   "pygments_lexer": "ipython3",
   "version": "3.9.12"
  }
 },
 "nbformat": 4,
 "nbformat_minor": 5
}
